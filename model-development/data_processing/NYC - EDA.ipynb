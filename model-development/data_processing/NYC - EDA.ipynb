{
 "cells": [
  {
   "cell_type": "markdown",
   "id": "ecb50202",
   "metadata": {},
   "source": [
    "# NYC Taxi EDA using Koalas Library"
   ]
  },
  {
   "cell_type": "markdown",
   "id": "e86497b1",
   "metadata": {},
   "source": [
    "Exploratory data analysis of the NYC Taxi dataset using Koalas. Looking at data quality and data distributions. This should be done over a larger sample but only looking at one month extract for performance. "
   ]
  },
  {
   "cell_type": "code",
   "execution_count": null,
   "id": "c1d8beab",
   "metadata": {},
   "outputs": [],
   "source": [
    "from pyspark.sql import SparkSession\n",
    "import databricks.koalas as ks\n",
    "import os\n",
    "import glob\n",
    "\n",
    "# file = [x for x in glob.glob('/data/*.parquet')]\n",
    "file = '/data/yellow_tripdata_2019-01.parquet'\n",
    "\n",
    "spark = SparkSession.builder\\\n",
    "        .master(\"local\")\\\n",
    "        .appName(\"NYC\")\\\n",
    "        .getOrCreate()"
   ]
  },
  {
   "cell_type": "code",
   "execution_count": null,
   "id": "9f0b2a34",
   "metadata": {
    "scrolled": true
   },
   "outputs": [],
   "source": [
    "df_small = ks.read_parquet(file)\n",
    "df_small.head()"
   ]
  },
  {
   "cell_type": "code",
   "execution_count": null,
   "id": "78c9b9df",
   "metadata": {},
   "outputs": [],
   "source": [
    "# Identify datatypes\n",
    "df_small.dtypes"
   ]
  },
  {
   "cell_type": "code",
   "execution_count": null,
   "id": "f3b7340d",
   "metadata": {},
   "outputs": [],
   "source": [
    "# Convert pick/dropoff to datetimes\n",
    "\n",
    "df_small['tpep_pickup_datetime'] = ks.to_datetime(df_small['tpep_pickup_datetime'])\n",
    "df_small['tpep_dropoff_datetime'] = ks.to_datetime(df_small['tpep_dropoff_datetime'])\n",
    "\n",
    "# Extract finer grain time details\n",
    "\n",
    "df_small[\"pickup_month\"] = df_small[\"tpep_pickup_datetime\"].apply(lambda x: x.month)\n",
    "df_small[\"pickup_day\"] = df_small[\"tpep_pickup_datetime\"].apply(lambda x: x.day)\n",
    "df_small[\"pickup_weekday\"] = df_small[\"tpep_pickup_datetime\"].apply(lambda x: x.weekday())\n",
    "df_small[\"pickup_hour\"] = df_small[\"tpep_pickup_datetime\"].apply(lambda x: x.hour)\n",
    "df_small[\"pickup_minute\"] = df_small[\"tpep_pickup_datetime\"].apply(lambda x: x.minute)\n",
    "df_small[\"pickup_time\"] = df_small[\"pickup_hour\"] + (df_small[\"pickup_minute\"] / 60)\n",
    "\n",
    "# df_small[\"dropoff_hour\"] = df_small[\"tpep_dropoff_datetime\"].apply(lambda x: x.hour)\n",
    "\n",
    "# No trip duration column so calulcate that\n",
    "df_small['trip_duration'] = (df_small['tpep_dropoff_datetime'] - df_small['tpep_pickup_datetime'])/60"
   ]
  },
  {
   "cell_type": "code",
   "execution_count": null,
   "id": "9abaec26",
   "metadata": {},
   "outputs": [],
   "source": [
    "# Only keep columns that contain relevant information. Sourced from data dictionary\n",
    "keep = ['tpep_pickup_datetime', 'tpep_dropoff_datetime', 'passenger_count',\n",
    "       'trip_distance', 'PULocationID', 'DOLocationID', 'payment_type',\n",
    "       'fare_amount', 'extra', 'mta_tax', 'tip_amount', 'tolls_amount',\n",
    "       'improvement_surcharge', 'pickup_month', 'pickup_day', 'pickup_weekday',\n",
    "       'pickup_hour', 'pickup_minute', 'pickup_time', 'trip_duration']\n",
    "\n",
    "df_small = df_small[keep]"
   ]
  },
  {
   "cell_type": "code",
   "execution_count": null,
   "id": "9d7f64cf",
   "metadata": {},
   "outputs": [],
   "source": [
    "# Look at distribution of columns to identify any data quality issues\n",
    "df_small.describe()"
   ]
  },
  {
   "cell_type": "code",
   "execution_count": null,
   "id": "9e107dd3",
   "metadata": {},
   "outputs": [],
   "source": [
    "# Drop rows with negative duration and anything longer than 20mins (75%)\n",
    "df_small = df_small[df_small['trip_duration'].between(0,20)]\n",
    "len(df_small)"
   ]
  },
  {
   "cell_type": "code",
   "execution_count": null,
   "id": "080fcccc",
   "metadata": {},
   "outputs": [],
   "source": [
    "df_small['trip_duration'].plot.hist(bins=10)"
   ]
  },
  {
   "cell_type": "code",
   "execution_count": null,
   "id": "372350a6",
   "metadata": {},
   "outputs": [],
   "source": [
    "df_small['passenger_count'].plot.hist(bins=6)"
   ]
  },
  {
   "cell_type": "code",
   "execution_count": null,
   "id": "1b8a7bd5",
   "metadata": {},
   "outputs": [],
   "source": [
    "df_small['trip_distance'].plot.hist(bins=6)"
   ]
  },
  {
   "cell_type": "code",
   "execution_count": null,
   "id": "de9b2783",
   "metadata": {},
   "outputs": [],
   "source": [
    "df_small['pickup_weekday'].plot.hist(bins=7)"
   ]
  },
  {
   "cell_type": "code",
   "execution_count": null,
   "id": "c9d3dbb7",
   "metadata": {},
   "outputs": [],
   "source": [
    "df_small['pickup_hour'].plot.hist(bins=24)"
   ]
  },
  {
   "cell_type": "code",
   "execution_count": null,
   "id": "59d9084c",
   "metadata": {},
   "outputs": [],
   "source": []
  }
 ],
 "metadata": {
  "kernelspec": {
   "display_name": "Python 3 (ipykernel)",
   "language": "python",
   "name": "python3"
  },
  "language_info": {
   "codemirror_mode": {
    "name": "ipython",
    "version": 3
   },
   "file_extension": ".py",
   "mimetype": "text/x-python",
   "name": "python",
   "nbconvert_exporter": "python",
   "pygments_lexer": "ipython3",
   "version": "3.7.3"
  }
 },
 "nbformat": 4,
 "nbformat_minor": 5
}
